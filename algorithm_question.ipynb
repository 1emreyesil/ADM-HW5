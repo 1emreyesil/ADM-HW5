{
 "cells": [
  {
   "cell_type": "code",
   "execution_count": 4,
   "id": "eeb3d096",
   "metadata": {},
   "outputs": [],
   "source": [
    "from collections import deque\n",
    "\n",
    "def findCheapestPrice(n, flights, src, dst, k):\n",
    "    # Step 1: Create a graph where each city points to its neighbors with the flight cost\n",
    "    graph = {}\n",
    "    for u, v, w in flights:\n",
    "        if u not in graph:\n",
    "            graph[u] = []\n",
    "        graph[u].append((v, w))  # (destination, cost)\n",
    "    \n",
    "    # Step 2: Create a queue for BFS. Each item is (cost, city, number of stops)\n",
    "    queue = deque([(0, src, 0)])  # Starting from the source city with 0 cost and 0 stops\n",
    "    \n",
    "    # Step 3: Create a list to track the minimum cost to reach each city\n",
    "    min_cost = [float('inf')] * n  # Start with infinite cost for each city\n",
    "    min_cost[src] = 0  # The cost to start from src is 0\n",
    "    \n",
    "    # Step 4: Perform BFS to find the cheapest route\n",
    "    while queue:\n",
    "        current_cost, current_city, stops = queue.popleft()\n",
    "        \n",
    "        # If we exceed the allowed number of stops, stop exploring further\n",
    "        if stops > k:\n",
    "            continue\n",
    "        \n",
    "        # Explore neighbors (cities that can be reached directly from the current city)\n",
    "        if current_city in graph:\n",
    "            for neighbor, cost in graph[current_city]:\n",
    "                new_cost = current_cost + cost  # Calculate the new cost to reach the neighbor\n",
    "                \n",
    "                # If the new cost is cheaper, update the minimum cost and add it to the queue\n",
    "                if new_cost < min_cost[neighbor]:\n",
    "                    min_cost[neighbor] = new_cost\n",
    "                    queue.append((new_cost, neighbor, stops + 1))  # Add the neighbor to the queue with 1 more stop\n",
    "    \n",
    "    # Step 5: Return the result\n",
    "    # If we can't reach the destination, return -1, else return the minimum cost\n",
    "    return min_cost[dst] if min_cost[dst] != float('inf') else -1\n",
    "\n"
   ]
  },
  {
   "cell_type": "code",
   "execution_count": 3,
   "id": "df3807fa39b46e07",
   "metadata": {
    "ExecuteTime": {
     "end_time": "2024-12-17T15:59:25.836585Z",
     "start_time": "2024-12-17T15:59:25.828907Z"
    }
   },
   "outputs": [
    {
     "name": "stdout",
     "output_type": "stream",
     "text": [
      "Cheapest price with at most k stops: 700\n"
     ]
    }
   ],
   "source": [
    "if __name__ == \"__main__\":\n",
    "    n = 4  # Number of cities\n",
    "    flights = [\n",
    "        (0, 1, 100),\n",
    "        (1, 2, 100),\n",
    "        (2, 0, 100),\n",
    "        (1, 3, 600),\n",
    "        (2, 3, 200)\n",
    "    ]\n",
    "    src = 0\n",
    "    dst = 3\n",
    "    k = 1\n",
    "\n",
    "    result = findCheapestPrice(n, flights, src, dst, k)\n",
    "    print(\"Cheapest price with at most k stops:\", result)"
   ]
  },
  {
   "cell_type": "code",
   "execution_count": 2,
   "id": "1eeea2ff5ac7664f",
   "metadata": {
    "ExecuteTime": {
     "end_time": "2024-12-17T16:00:13.516069Z",
     "start_time": "2024-12-17T16:00:13.509918Z"
    }
   },
   "outputs": [
    {
     "name": "stdout",
     "output_type": "stream",
     "text": [
      "Cheapest price with at most k stops: 200\n"
     ]
    }
   ],
   "source": [
    "    n = 3  # Number of cities\n",
    "    flights = [\n",
    "        (0, 1, 100),\n",
    "        (1, 2, 100),\n",
    "        (0, 2, 500)\n",
    "    ]\n",
    "    src = 0\n",
    "    dst = 2\n",
    "    k = 1\n",
    "\n",
    "    result = findCheapestPrice(n, flights, src, dst, k)\n",
    "    print(\"Cheapest price with at most k stops:\", result)"
   ]
  },
  {
   "cell_type": "code",
   "execution_count": null,
   "id": "a80a841346d98593",
   "metadata": {},
   "outputs": [],
   "source": []
  }
 ],
 "metadata": {
  "kernelspec": {
   "display_name": "Python 3",
   "language": "python",
   "name": "python3"
  },
  "language_info": {
   "codemirror_mode": {
    "name": "ipython",
    "version": 3
   },
   "file_extension": ".py",
   "mimetype": "text/x-python",
   "name": "python",
   "nbconvert_exporter": "python",
   "pygments_lexer": "ipython3",
   "version": "3.12.8"
  }
 },
 "nbformat": 4,
 "nbformat_minor": 5
}
